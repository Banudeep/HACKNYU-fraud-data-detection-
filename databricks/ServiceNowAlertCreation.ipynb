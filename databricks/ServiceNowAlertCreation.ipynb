{
 "cells": [
  {
   "cell_type": "code",
   "execution_count": 0,
   "metadata": {
    "application/vnd.databricks.v1+cell": {
     "cellMetadata": {
      "byteLimit": 2048000,
      "rowLimit": 10000
     },
     "inputWidgets": {},
     "nuid": "2fcd3da7-55b0-4def-bc57-55e108ff4a80",
     "showTitle": false,
     "tableResultSettingsMap": {},
     "title": ""
    }
   },
   "outputs": [],
   "source": [
    "from pyspark.sql import SparkSession\n",
    "\n",
    "# Initialize Spark session\n",
    "spark = SparkSession.builder.appName(\"FraudDetection\").getOrCreate()\n",
    "\n",
    "# Load the cleaned_data table from the Databricks catalog\n",
    "df = spark.sql(\"SELECT * FROM real_time_fraud_detection.default.cleaned_data WHERE isFraud = 1\")\n",
    "\n",
    "# Convert to Pandas for easier API processing\n",
    "fraud_cases = df.toPandas()\n",
    "\n",
    "display(fraud_cases)"
   ]
  },
  {
   "cell_type": "code",
   "execution_count": 0,
   "metadata": {
    "application/vnd.databricks.v1+cell": {
     "cellMetadata": {
      "byteLimit": 2048000,
      "rowLimit": 10000
     },
     "inputWidgets": {},
     "nuid": "2c3071f0-56b0-4bb6-9abe-ac44bd5b2f63",
     "showTitle": false,
     "tableResultSettingsMap": {},
     "title": ""
    }
   },
   "outputs": [],
   "source": [
    "import requests\n",
    "import json\n",
    "\n",
    "# ServiceNow API Credentials\n",
    "SNOW_INSTANCE = \"https://dev183227.service-now.com/\"\n",
    "SNOW_USER = \"admin\"\n",
    "SNOW_PASSWORD = \"dB8TWzoF!i0$\"\n",
    "SNOW_TABLE_API = \"/api/now/table/incident\"\n",
    "\n",
    "# Function to create an incident in ServiceNow\n",
    "def create_servicenow_incident(user, card, txn_id, addr, amount):\n",
    "    short_desc = f\"🚨 Fraud Alert: Suspicious Transaction {txn_id} Detected\"\n",
    "\n",
    "    description = (\n",
    "        f\"User **{user} (Card: {card})** made a transaction **(Transaction ID: {txn_id})** \"\n",
    "        f\"associated with **Card: {card}** to merchant **{addr}**.\\n\"\n",
    "        f\"This transaction has been flagged as **potential fraud** due to unusual activity.\\n\\n\"\n",
    "        f\"A fraud investigation ticket has been opened for further analysis.\"\n",
    "    )\n",
    "    \n",
    "    url = f\"{SNOW_INSTANCE}{SNOW_TABLE_API}\"\n",
    "    headers = {\"Content-Type\": \"application/json\"}\n",
    "    data = {\n",
    "        \"short_description\": short_desc,\n",
    "        \"description\": description,\n",
    "        \"urgency\": \"1\",  # High priority\n",
    "        \"impact\": \"1\",  # High impact\n",
    "        \"category\": \"Fraud Detection\",\n",
    "        \"subcategory\": \"Transaction Fraud\"\n",
    "    }\n",
    "\n",
    "    response = requests.post(url, auth=(SNOW_USER, SNOW_PASSWORD), headers=headers, data=json.dumps(data))\n",
    "    \n",
    "    if response.status_code in [200, 201]:\n",
    "        print(f\"✅ Incident created for Transaction {txn_id}: {response.json()}\")\n",
    "    else:\n",
    "        print(f\"❌ Error creating incident for Transaction {txn_id}: {response.status_code}, {response.text}\")\n"
   ]
  },
  {
   "cell_type": "code",
   "execution_count": 0,
   "metadata": {
    "application/vnd.databricks.v1+cell": {
     "cellMetadata": {
      "byteLimit": 2048000,
      "rowLimit": 10000
     },
     "inputWidgets": {},
     "nuid": "3f0732cb-3530-4199-85b0-5ebbc913f794",
     "showTitle": false,
     "tableResultSettingsMap": {},
     "title": ""
    }
   },
   "outputs": [],
   "source": [
    "for index, row in fraud_cases.iterrows():\n",
    "    create_servicenow_incident(\n",
    "        user=row[\"card1\"],\n",
    "        card=row[\"card1\"],\n",
    "        txn_id=row[\"TransactionID\"],\n",
    "        addr=row[\"addr1\"],\n",
    "        amount=row[\"TransactionAmt\"]\n",
    "    )"
   ]
  }
 ],
 "metadata": {
  "application/vnd.databricks.v1+notebook": {
   "computePreferences": null,
   "dashboards": [],
   "environmentMetadata": {
    "base_environment": "",
    "environment_version": "2"
   },
   "language": "python",
   "notebookMetadata": {
    "pythonIndentUnit": 4
   },
   "notebookName": "ServiceNowAlertCreation",
   "widgets": {}
  },
  "language_info": {
   "name": "python"
  }
 },
 "nbformat": 4,
 "nbformat_minor": 0
}
