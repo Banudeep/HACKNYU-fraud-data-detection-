{
 "cells": [
  {
   "cell_type": "code",
   "execution_count": 0,
   "metadata": {
    "application/vnd.databricks.v1+cell": {
     "cellMetadata": {
      "byteLimit": 2048000,
      "rowLimit": 10000
     },
     "inputWidgets": {},
     "nuid": "6d683988-883b-494a-86ce-d2df3fc0d787",
     "showTitle": false,
     "tableResultSettingsMap": {},
     "title": ""
    }
   },
   "outputs": [],
   "source": [
    "import smtplib\n",
    "from email.mime.multipart import MIMEMultipart\n",
    "from email.mime.text import MIMEText\n",
    "\n",
    "\n",
    "SMTP_SERVER = \"smtp.gmail.com\"  \n",
    "SMTP_PORT = 587  \n",
    "EMAIL_SENDER = \"praneeth2108ravirala@gmail.com\"\n",
    "EMAIL_PASSWORD = \"etpv prhc iaex dgki\"\n",
    "\n",
    "def send_fraud_alert(recipient_email, transaction_id, amount, location):\n",
    "    try:\n",
    "        server = smtplib.SMTP(SMTP_SERVER, SMTP_PORT)\n",
    "        server.starttls() \n",
    "        server.login(EMAIL_SENDER, EMAIL_PASSWORD)\n",
    "\n",
    "        subject = \"⚠️ Fraud Alert: Suspicious Transaction Detected\"\n",
    "        body = f\"\"\"\n",
    "        Dear User,\n",
    "\n",
    "        We detected a suspicious transaction on your account.\n",
    "\n",
    "        🔹 Transaction ID: {transaction_id}\n",
    "        🔹 Amount: ${amount}\n",
    "        🔹 Location: {location}\n",
    "\n",
    "        If this was you, no action is needed. Otherwise, please contact our fraud department immediately.\n",
    "\n",
    "        Stay safe,\n",
    "        Fraud Detection Team\n",
    "        \"\"\"\n",
    "        \n",
    "        msg = MIMEMultipart()\n",
    "        msg['From'] = EMAIL_SENDER\n",
    "        msg['To'] = recipient_email\n",
    "        msg['Subject'] = subject\n",
    "        msg.attach(MIMEText(body, 'plain'))\n",
    "\n",
    "        server.sendmail(EMAIL_SENDER, recipient_email, msg.as_string())\n",
    "        server.quit()\n",
    "\n",
    "        print(f\"✅ Fraud alert sent to {recipient_email}\")\n",
    "\n",
    "    except Exception as e:\n",
    "        print(f\"❌ Error sending email: {e}\")\n",
    "\n",
    "send_fraud_alert(\"bgade@gmu.edu\", \"TXN12345\", 500.75, \"New York, USA\")\n"
   ]
  },
  {
   "cell_type": "code",
   "execution_count": 0,
   "metadata": {
    "application/vnd.databricks.v1+cell": {
     "cellMetadata": {},
     "inputWidgets": {},
     "nuid": "7c44c432-f6ce-4e5c-9e8d-a2b2f60b23b2",
     "showTitle": false,
     "tableResultSettingsMap": {},
     "title": ""
    }
   },
   "outputs": [],
   "source": []
  }
 ],
 "metadata": {
  "application/vnd.databricks.v1+notebook": {
   "computePreferences": null,
   "dashboards": [],
   "environmentMetadata": {
    "base_environment": "",
    "environment_version": "2"
   },
   "language": "python",
   "notebookMetadata": {
    "pythonIndentUnit": 4
   },
   "notebookName": "SMTP",
   "widgets": {}
  },
  "language_info": {
   "name": "python"
  }
 },
 "nbformat": 4,
 "nbformat_minor": 0
}
